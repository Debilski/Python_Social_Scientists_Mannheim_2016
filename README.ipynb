{
 "cells": [
  {
   "cell_type": "markdown",
   "metadata": {},
   "source": [
    "# Additional information"
   ]
  },
  {
   "cell_type": "markdown",
   "metadata": {},
   "source": [
    "Hi participants of the Python for Social Scientists session last week in Mannheim,\n",
    "\n",
    "in thise notebook, I’ll add a bit more information about the course and Python."
   ]
  },
  {
   "cell_type": "markdown",
   "metadata": {},
   "source": [
    "The slideshow was done with Jupyter notebook itself and a [plugin](https://github.com/damianavila/RISE) for animations. You can view it in [non-slideshow format](https://github.com/Debilski/Python_Social_Scientists_Mannheim_2016/blob/master/Introduction-to-Python.ipynb) online or just grab it from the repository: https://github.com/Debilski/Python_Social_Scientists_Mannheim_2016\n",
    "\n"
   ]
  },
  {
   "cell_type": "markdown",
   "metadata": {},
   "source": [
    "The exercises for the second half of the course were taken from Renee Chu’s ([@reneighbor](https://twitter.com/reneighbor)) talk [‘Python for Social Scientists’ (2014)](https://www.youtube.com/watch?v=5tk0Jv95FsQ). There is also a [repository with the original exercises](https://github.com/reneighbor/python-for-social-scientists).\n",
    "\n"
   ]
  },
  {
   "cell_type": "markdown",
   "metadata": {},
   "source": [
    "## Online courses and tutorials\n",
    "\n",
    "* A curated list of packages and tutorials for Python users in sciences (with a focus on data science, which I guess also covers social sciences) is on http://www.data-analysis-in-python.org/index.html . This can be a very good starting point, if you want to know more about the Python ecosystem.\n",
    "\n",
    "* As a ‘modern’ introduction, I like to recommend the course on ‘Quantitative Economics’ by Thomas J. Sargent and John Stachurski. It goes very much into mathematical and economical depths at a certain point but that should not hinder you from following the first part of the course where they simply give an introduction to Python. It can be found on http://quant-econ.net/py/index.html . The tutorial covers basic Python and also libraries like Numpy, matplotlib and Pandas.\n",
    "\n"
   ]
  },
  {
   "cell_type": "markdown",
   "metadata": {},
   "source": [
    "## Advanced Scientific Programming in Pyhton\n",
    "\n",
    "Last not least, once you have looked into enough Python, I’d be happy if you applied for the next programming workshop ‘Advanced Scientific Programming in Pyhton’ (https://python.g-node.org/wiki/). We are always welcoming applicants from different fields in science. (The site also lists some links to additional materials.)"
   ]
  },
  {
   "cell_type": "code",
   "execution_count": null,
   "metadata": {
    "collapsed": true
   },
   "outputs": [],
   "source": []
  }
 ],
 "metadata": {
  "kernelspec": {
   "display_name": "Python 3",
   "language": "python",
   "name": "python3"
  },
  "language_info": {
   "codemirror_mode": {
    "name": "ipython",
    "version": 3
   },
   "file_extension": ".py",
   "mimetype": "text/x-python",
   "name": "python",
   "nbconvert_exporter": "python",
   "pygments_lexer": "ipython3",
   "version": "3.5.1"
  }
 },
 "nbformat": 4,
 "nbformat_minor": 0
}
